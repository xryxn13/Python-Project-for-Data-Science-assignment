{
 "cells": [
  {
   "cell_type": "markdown",
   "id": "d4bb82dd",
   "metadata": {},
   "source": [
    "Data science Tools"
   ]
  },
  {
   "cell_type": "markdown",
   "id": "84f49f3d",
   "metadata": {},
   "source": [
    "In this notebook, Tools and Techniques of the Data science will be discussed\n",
    "\n",
    "Objectives:\n",
    "1.List of Data science Library\n",
    "2.List of commonly used libraries\n",
    "3.List of Data science tools"
   ]
  },
  {
   "cell_type": "markdown",
   "id": "c529610e",
   "metadata": {},
   "source": [
    "Some of the languages that data scientist uses are.\n",
    "1.R\n",
    "2.python\n",
    "3.SQL\n",
    "4.julia\n",
    "5.java\n",
    "6.scala"
   ]
  },
  {
   "cell_type": "markdown",
   "id": "c3423f6c",
   "metadata": {},
   "source": [
    "some of the commonly used libraries by the data scientist are\n",
    "\n",
    "1.TensorFlow.\n",
    "2.NumPy.\n",
    "3.SciPy.\n",
    "4.Pandas.\n",
    "5.Matplotlib.\n",
    "6.Keras.\n",
    "7.SciKit-Learn.\n",
    "8.PyTorch.\n",
    "9.Scrapy.\n",
    "10.BeautifulSoup.\n",
    "11.LightGBM.\n",
    "12.ELI5.\n",
    "13.Theano.\n",
    "14.NuPIC.\n",
    "15.Ramp.\n",
    "16.Pipenv.\n",
    "17.Bob.\n",
    "18.PyBrain.\n",
    "19.Caffe2.\n",
    "20.Chainer."
   ]
  },
  {
   "cell_type": "markdown",
   "id": "a6e30c0d",
   "metadata": {},
   "source": [
    "Data science tools:\n",
    "\n",
    "1.SAS- It is one of the data science tools which are specifically designed for statistical operation\n",
    "2.Apache Spark\t\t\n",
    "3.BigML"
   ]
  },
  {
   "cell_type": "code",
   "execution_count": 6,
   "id": "c4d92c1d",
   "metadata": {},
   "outputs": [
    {
     "data": {
      "text/plain": [
       "6"
      ]
     },
     "execution_count": 6,
     "metadata": {},
     "output_type": "execute_result"
    }
   ],
   "source": [
    "# Arithmetic operations\n",
    "code = compile(\"4 + 2\", \"hello\", \"eval\")\n",
    "eval(code)\n",
    "# Result: 6"
   ]
  },
  {
   "cell_type": "code",
   "execution_count": 7,
   "id": "87701656",
   "metadata": {},
   "outputs": [
    {
     "data": {
      "text/plain": [
       "21"
      ]
     },
     "execution_count": 7,
     "metadata": {},
     "output_type": "execute_result"
    }
   ],
   "source": [
    "code1 = compile(\"(4 + 3) * 3\", \"hello\", \"eval\")\n",
    "eval(code1)\n",
    "# Result: 21"
   ]
  },
  {
   "cell_type": "code",
   "execution_count": 9,
   "id": "f644d7c5",
   "metadata": {},
   "outputs": [
    {
     "data": {
      "text/plain": [
       "32"
      ]
     },
     "execution_count": 9,
     "metadata": {},
     "output_type": "execute_result"
    }
   ],
   "source": [
    "#add and mulitiply a number\n",
    "(4*6)+8\n",
    "# Result: 32"
   ]
  },
  {
   "cell_type": "code",
   "execution_count": 12,
   "id": "38a21666",
   "metadata": {},
   "outputs": [
    {
     "name": "stdout",
     "output_type": "stream",
     "text": [
      "0 days, 5.283333333333333 hours, 0 mins. \n"
     ]
    }
   ],
   "source": [
    "days = 0\n",
    "hours = 0\n",
    "mins = 0\n",
    "\n",
    "time = 317\n",
    "#days = time / 1440\n",
    "leftover_minutes = time % 1440\n",
    "hours = leftover_minutes / 60\n",
    "#mins = time - (days*1440) - (hours*60)\n",
    "print(str(days) + \" days, \" + str(hours) + \" hours, \" + str(mins) +  \" mins. \")\n",
    "\n",
    "# Result: 5.283333333333333335 hours"
   ]
  },
  {
   "cell_type": "markdown",
   "id": "53b467d8",
   "metadata": {},
   "source": [
    "It is the introduction cell , insert a new markdown cell to list the objectives that this notebook covered (i.e. some of the key takeaways from the course)."
   ]
  },
  {
   "cell_type": "markdown",
   "id": "4258543f",
   "metadata": {},
   "source": [
    "Rahul Kumar"
   ]
  }
 ],
 "metadata": {
  "kernelspec": {
   "display_name": "Python 3 (ipykernel)",
   "language": "python",
   "name": "python3"
  },
  "language_info": {
   "codemirror_mode": {
    "name": "ipython",
    "version": 3
   },
   "file_extension": ".py",
   "mimetype": "text/x-python",
   "name": "python",
   "nbconvert_exporter": "python",
   "pygments_lexer": "ipython3",
   "version": "3.9.13"
  }
 },
 "nbformat": 4,
 "nbformat_minor": 5
}
